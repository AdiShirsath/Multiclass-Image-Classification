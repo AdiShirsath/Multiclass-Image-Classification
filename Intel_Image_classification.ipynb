{
  "nbformat": 4,
  "nbformat_minor": 0,
  "metadata": {
    "colab": {
      "name": "Intel_Image_classification.ipynb",
      "provenance": [],
      "toc_visible": true
    },
    "kernelspec": {
      "name": "python3",
      "display_name": "Python 3"
    },
    "accelerator": "GPU"
  },
  "cells": [
    {
      "cell_type": "markdown",
      "metadata": {
        "id": "m0l3L0NJuXvN"
      },
      "source": [
        "# This is project for image classification using Convilutional Neural Network"
      ]
    },
    {
      "cell_type": "markdown",
      "metadata": {
        "id": "ecXHmvTMuv22"
      },
      "source": [
        "## Problem statment:\r\n",
        "   Prediction of diffrent classes of images using CNN\r\n",
        "\r\n",
        "## Data:   \r\n",
        "   We are given with dataset with 6 type of classes from [kaggle](https://www.kaggle.com/puneet6060/intel-image-classification) from this we will train our cnn model and will test on given test set.\r\n",
        "   This Data contains around 25k images of size 150x150 distributed under 6 categories.\r\n",
        "* 'buildings' -> 0\r\n",
        "* 'forest' -> 1\r\n",
        "* 'glacier' -> 2\r\n",
        "* 'mountain' -> 3\r\n",
        "* 'sea' -> 4\r\n",
        "* 'street' -> 5\r\n",
        "\r\n",
        "There are around 14k images in Train, 3k in Test and 7k in Prediction.\r\n",
        "\r\n"
      ]
    },
    {
      "cell_type": "markdown",
      "metadata": {
        "id": "sykeGcn1zcpe"
      },
      "source": [
        "### Import required tools"
      ]
    },
    {
      "cell_type": "code",
      "metadata": {
        "id": "heu6gn6Qzhf7"
      },
      "source": [
        "import pandas as pd\r\n",
        "import numpy as np\r\n",
        "import matplotlib.pyplot as plt\r\n",
        "import tensorflow as tf"
      ],
      "execution_count": 34,
      "outputs": []
    },
    {
      "cell_type": "code",
      "metadata": {
        "id": "jVdlu8RsyGB-"
      },
      "source": [
        "train_dir = \"/content/drive/MyDrive/Machine learning/Projects/Intel_image_classification/Data/seg_train\"\r\n",
        "test_dir = \"/content/drive/MyDrive/Machine learning/Projects/Intel_image_classification/Data/seg_test\""
      ],
      "execution_count": 35,
      "outputs": []
    },
    {
      "cell_type": "markdown",
      "metadata": {
        "id": "Dz3IcjL-1iyX"
      },
      "source": [
        "## Data preprocessing  "
      ]
    },
    {
      "cell_type": "code",
      "metadata": {
        "id": "4aBfP4xV13xG"
      },
      "source": [
        "from tensorflow.keras.preprocessing.image import ImageDataGenerator\r\n",
        "\r\n",
        "train_datagen = ImageDataGenerator(rescale=1./255,\r\n",
        "                                   shear_range =0.2, \r\n",
        "                                   zoom_range=0.2,\r\n",
        "                                   horizontal_flip=True,\r\n",
        "                                    validation_split=0.2)\r\n",
        "test_datagen = ImageDataGenerator(rescale=1./255)\r\n",
        "\r\n"
      ],
      "execution_count": 69,
      "outputs": []
    },
    {
      "cell_type": "code",
      "metadata": {
        "colab": {
          "base_uri": "https://localhost:8080/"
        },
        "id": "8jVcAx6d6e1B",
        "outputId": "99b2927c-f95d-49cf-e245-bdcf7cccdc0e"
      },
      "source": [
        "train_set = train_datagen.flow_from_directory(directory=train_dir,\r\n",
        "                                              target_size = (150,150),\r\n",
        "                                              class_mode=\"categorical\",\r\n",
        "                                              subset='training',\r\n",
        "                                              batch_size=32)\r\n",
        "\r\n",
        "val_set= train_datagen.flow_from_directory(directory=train_dir,\r\n",
        "                                             target_size = (150,150),\r\n",
        "                                              class_mode=\"categorical\",\r\n",
        "                                              subset='validation',\r\n",
        "                                              batch_size=32 )\r\n",
        "\r\n",
        "test_set = test_datagen.flow_from_directory(directory=test_dir,\r\n",
        "                                             target_size = (150,150),\r\n",
        "                                            class_mode=\"categorical\",\r\n",
        "                                            batch_size=32,shuffle=False )\r\n",
        " "
      ],
      "execution_count": 70,
      "outputs": [
        {
          "output_type": "stream",
          "text": [
            "Found 11230 images belonging to 6 classes.\n",
            "Found 2804 images belonging to 6 classes.\n",
            "Found 3000 images belonging to 6 classes.\n"
          ],
          "name": "stdout"
        }
      ]
    },
    {
      "cell_type": "markdown",
      "metadata": {
        "id": "UWA_2pShPBfR"
      },
      "source": [
        "## visualizing data"
      ]
    },
    {
      "cell_type": "code",
      "metadata": {
        "colab": {
          "base_uri": "https://localhost:8080/",
          "height": 269
        },
        "id": "m4C0bYROPDD9",
        "outputId": "2df8f948-eec3-42a3-9e3e-15893400f2f0"
      },
      "source": [
        "len_train_data = len(train_set.filenames)\r\n",
        "len_test_data = len(test_set.filenames)\r\n",
        "len_val_data = len(val_set.filenames)\r\n",
        "\r\n",
        "labels = ['Train data', 'Test data', 'Validation data']\r\n",
        "values = [len_train_data, len_test_data, len_val_data]\r\n",
        "colors = ['green','red','blue']\r\n",
        "\r\n",
        "plt.pie(values, labels=labels, colors=colors, autopct='%1.1f%%', shadow=True, explode=(0, 0.1, 0.1))\r\n",
        "plt.axis('equal')\r\n",
        "plt.title('Data in generators')\r\n",
        "plt.show()"
      ],
      "execution_count": 71,
      "outputs": [
        {
          "output_type": "display_data",
          "data": {
            "image/png": "[encoded data removed]",
            "text/plain": [
              "<Figure size 432x288 with 1 Axes>"
            ]
          },
          "metadata": {
            "tags": []
          }
        }
      ]
    },
    {
      "cell_type": "markdown",
      "metadata": {
        "id": "5lu05mGqBHdp"
      },
      "source": [
        "# Now That our data is ready we can build Convolutional neural network\r\n"
      ]
    },
    {
      "cell_type": "markdown",
      "metadata": {
        "id": "gTJA7wX1ITYD"
      },
      "source": [
        "### First cnn layer"
      ]
    },
    {
      "cell_type": "code",
      "metadata": {
        "id": "B-qU1_l_JaDg"
      },
      "source": [
        "model = tf.keras.Sequential()\r\n",
        "\r\n",
        "model.add(tf.keras.layers.Conv2D(64,kernel_size=3, input_shape=(150,150,3),activation=\"relu\"))\r\n",
        "model.add(tf.keras.layers.MaxPool2D(pool_size=2))\r\n"
      ],
      "execution_count": 72,
      "outputs": []
    },
    {
      "cell_type": "markdown",
      "metadata": {
        "id": "qTwaS5K7IZyK"
      },
      "source": [
        "### second CNN layer"
      ]
    },
    {
      "cell_type": "code",
      "metadata": {
        "id": "Q0KXeYvnL3nu"
      },
      "source": [
        "model.add(tf.keras.layers.Conv2D(128,kernel_size=3,activation=\"relu\",))\r\n",
        "model.add(tf.keras.layers.MaxPool2D(pool_size=2))"
      ],
      "execution_count": 73,
      "outputs": []
    },
    {
      "cell_type": "markdown",
      "metadata": {
        "id": "hc4vmwfNJGLK"
      },
      "source": [
        "### third CNN layer\r\n"
      ]
    },
    {
      "cell_type": "code",
      "metadata": {
        "id": "YqL5yTi-Mj6h"
      },
      "source": [
        "model.add(tf.keras.layers.Conv2D(128,kernel_size=3,activation=\"relu\"))\r\n",
        "model.add(tf.keras.layers.MaxPool2D(2))"
      ],
      "execution_count": 74,
      "outputs": []
    },
    {
      "cell_type": "markdown",
      "metadata": {
        "id": "xCPd1dJuIcic"
      },
      "source": [
        "# flattening"
      ]
    },
    {
      "cell_type": "code",
      "metadata": {
        "id": "q0U0FMPFQ5tE"
      },
      "source": [
        "model.add(tf.keras.layers.Flatten())"
      ],
      "execution_count": 75,
      "outputs": []
    },
    {
      "cell_type": "markdown",
      "metadata": {
        "id": "JYj5Z2mRIaeH"
      },
      "source": [
        "### 1st Dense layer"
      ]
    },
    {
      "cell_type": "code",
      "metadata": {
        "id": "RXiL650BNUGX"
      },
      "source": [
        "model.add(tf.keras.layers.Dense(128,activation=\"relu\"))\r\n",
        "model.add(tf.keras.layers.Dropout(0.3))\r\n"
      ],
      "execution_count": 76,
      "outputs": []
    },
    {
      "cell_type": "markdown",
      "metadata": {
        "id": "eeBH7FHsIbaI"
      },
      "source": [
        "### 2nd Dense layer "
      ]
    },
    {
      "cell_type": "code",
      "metadata": {
        "id": "AHbdQDFwNU74"
      },
      "source": [
        "model.add(tf.keras.layers.Dense(64,activation=\"relu\"))"
      ],
      "execution_count": 77,
      "outputs": []
    },
    {
      "cell_type": "markdown",
      "metadata": {
        "id": "ol5qFkgmIcPA"
      },
      "source": [
        "### output layer"
      ]
    },
    {
      "cell_type": "code",
      "metadata": {
        "id": "6LFl7Qc1NXdd"
      },
      "source": [
        "model.add(tf.keras.layers.Dense(6,activation=\"softmax\"))"
      ],
      "execution_count": 78,
      "outputs": []
    },
    {
      "cell_type": "markdown",
      "metadata": {
        "id": "xPp9R8o7Ic68"
      },
      "source": [
        "## compile model"
      ]
    },
    {
      "cell_type": "code",
      "metadata": {
        "id": "yWhj5IlrSm8O"
      },
      "source": [
        "model.compile(optimizer=\"adam\", \r\n",
        "              loss=\"categorical_crossentropy\",\r\n",
        "              metrics=\"accuracy\"\r\n",
        "               )"
      ],
      "execution_count": 79,
      "outputs": []
    },
    {
      "cell_type": "markdown",
      "metadata": {
        "id": "FnUcsHH2TPUO"
      },
      "source": [
        "## Before fitting model we will define callback and earlystopping"
      ]
    },
    {
      "cell_type": "code",
      "metadata": {
        "id": "3CnznyVUUzie"
      },
      "source": [
        "from keras.callbacks import ModelCheckpoint, EarlyStopping\r\n"
      ],
      "execution_count": 80,
      "outputs": []
    },
    {
      "cell_type": "code",
      "metadata": {
        "id": "6qoYNirWWwwe"
      },
      "source": [
        "early_stopping= EarlyStopping(monitor=\"val_loss\",patience=3,verbose=1)\r\n",
        "\r\n",
        "checkpoints = ModelCheckpoint(\"/content/drive/MyDrive/Machine learning/Projects/Intel_image_classification/check_points\",\r\n",
        "                             monitor=\"val_loss\",\r\n",
        "                             verbose=1,\r\n",
        "                             save_best_only=True)\r\n",
        "\r\n",
        "callback_list = [early_stopping,checkpoints]"
      ],
      "execution_count": 81,
      "outputs": []
    },
    {
      "cell_type": "markdown",
      "metadata": {
        "id": "VM_yiP8yU_pu"
      },
      "source": [
        "## Fit model on data"
      ]
    },
    {
      "cell_type": "code",
      "metadata": {
        "colab": {
          "base_uri": "https://localhost:8080/"
        },
        "id": "ZP-XIJYaYQlo",
        "outputId": "cae6b290-61e9-43b7-cba8-fe6c70badb8b"
      },
      "source": [
        "history1 =model.fit_generator( train_set,\r\n",
        "                    epochs = 100,\r\n",
        "                    validation_data= val_set,\r\n",
        "                    verbose=1,\r\n",
        "                    callbacks=callback_list)"
      ],
      "execution_count": 82,
      "outputs": [
        {
          "output_type": "stream",
          "text": [
            "/usr/local/lib/python3.6/dist-packages/tensorflow/python/keras/engine/training.py:1844: UserWarning: `Model.fit_generator` is deprecated and will be removed in a future version. Please use `Model.fit`, which supports generators.\n",
            "  warnings.warn('`Model.fit_generator` is deprecated and '\n"
          ],
          "name": "stderr"
        },
        {
          "output_type": "stream",
          "text": [
            "Epoch 1/100\n",
            "351/351 [==============================] - 91s 258ms/step - loss: 1.3035 - accuracy: 0.4615 - val_loss: 0.8793 - val_accuracy: 0.6662\n",
            "\n",
            "Epoch 00001: val_loss improved from inf to 0.87934, saving model to /content/drive/MyDrive/Machine learning/Projects/Intel_image_classification/check_points\n",
            "INFO:tensorflow:Assets written to: /content/drive/MyDrive/Machine learning/Projects/Intel_image_classification/check_points/assets\n",
            "Epoch 2/100\n",
            "351/351 [==============================] - 90s 257ms/step - loss: 0.9071 - accuracy: 0.6533 - val_loss: 0.7206 - val_accuracy: 0.7225\n",
            "\n",
            "Epoch 00002: val_loss improved from 0.87934 to 0.72057, saving model to /content/drive/MyDrive/Machine learning/Projects/Intel_image_classification/check_points\n",
            "INFO:tensorflow:Assets written to: /content/drive/MyDrive/Machine learning/Projects/Intel_image_classification/check_points/assets\n",
            "Epoch 3/100\n",
            "351/351 [==============================] - 88s 251ms/step - loss: 0.7601 - accuracy: 0.7187 - val_loss: 0.6608 - val_accuracy: 0.7653\n",
            "\n",
            "Epoch 00003: val_loss improved from 0.72057 to 0.66084, saving model to /content/drive/MyDrive/Machine learning/Projects/Intel_image_classification/check_points\n",
            "INFO:tensorflow:Assets written to: /content/drive/MyDrive/Machine learning/Projects/Intel_image_classification/check_points/assets\n",
            "Epoch 4/100\n",
            "351/351 [==============================] - 88s 250ms/step - loss: 0.6708 - accuracy: 0.7650 - val_loss: 0.5691 - val_accuracy: 0.8028\n",
            "\n",
            "Epoch 00004: val_loss improved from 0.66084 to 0.56914, saving model to /content/drive/MyDrive/Machine learning/Projects/Intel_image_classification/check_points\n",
            "INFO:tensorflow:Assets written to: /content/drive/MyDrive/Machine learning/Projects/Intel_image_classification/check_points/assets\n",
            "Epoch 5/100\n",
            "351/351 [==============================] - 88s 251ms/step - loss: 0.5956 - accuracy: 0.7900 - val_loss: 0.5511 - val_accuracy: 0.8096\n",
            "\n",
            "Epoch 00005: val_loss improved from 0.56914 to 0.55113, saving model to /content/drive/MyDrive/Machine learning/Projects/Intel_image_classification/check_points\n",
            "INFO:tensorflow:Assets written to: /content/drive/MyDrive/Machine learning/Projects/Intel_image_classification/check_points/assets\n",
            "Epoch 6/100\n",
            "351/351 [==============================] - 88s 251ms/step - loss: 0.5350 - accuracy: 0.8093 - val_loss: 0.4749 - val_accuracy: 0.8335\n",
            "\n",
            "Epoch 00006: val_loss improved from 0.55113 to 0.47490, saving model to /content/drive/MyDrive/Machine learning/Projects/Intel_image_classification/check_points\n",
            "INFO:tensorflow:Assets written to: /content/drive/MyDrive/Machine learning/Projects/Intel_image_classification/check_points/assets\n",
            "Epoch 7/100\n",
            "351/351 [==============================] - 88s 249ms/step - loss: 0.4947 - accuracy: 0.8240 - val_loss: 0.4641 - val_accuracy: 0.8320\n",
            "\n",
            "Epoch 00007: val_loss improved from 0.47490 to 0.46409, saving model to /content/drive/MyDrive/Machine learning/Projects/Intel_image_classification/check_points\n",
            "INFO:tensorflow:Assets written to: /content/drive/MyDrive/Machine learning/Projects/Intel_image_classification/check_points/assets\n",
            "Epoch 8/100\n",
            "351/351 [==============================] - 88s 251ms/step - loss: 0.4520 - accuracy: 0.8390 - val_loss: 0.4733 - val_accuracy: 0.8210\n",
            "\n",
            "Epoch 00008: val_loss did not improve from 0.46409\n",
            "Epoch 9/100\n",
            "351/351 [==============================] - 89s 252ms/step - loss: 0.4243 - accuracy: 0.8458 - val_loss: 0.4670 - val_accuracy: 0.8320\n",
            "\n",
            "Epoch 00009: val_loss did not improve from 0.46409\n",
            "Epoch 10/100\n",
            "351/351 [==============================] - 88s 251ms/step - loss: 0.4049 - accuracy: 0.8555 - val_loss: 0.4489 - val_accuracy: 0.8402\n",
            "\n",
            "Epoch 00010: val_loss improved from 0.46409 to 0.44894, saving model to /content/drive/MyDrive/Machine learning/Projects/Intel_image_classification/check_points\n",
            "INFO:tensorflow:Assets written to: /content/drive/MyDrive/Machine learning/Projects/Intel_image_classification/check_points/assets\n",
            "Epoch 11/100\n",
            "351/351 [==============================] - 88s 251ms/step - loss: 0.3904 - accuracy: 0.8589 - val_loss: 0.4424 - val_accuracy: 0.8456\n",
            "\n",
            "Epoch 00011: val_loss improved from 0.44894 to 0.44242, saving model to /content/drive/MyDrive/Machine learning/Projects/Intel_image_classification/check_points\n",
            "INFO:tensorflow:Assets written to: /content/drive/MyDrive/Machine learning/Projects/Intel_image_classification/check_points/assets\n",
            "Epoch 12/100\n",
            "351/351 [==============================] - 88s 250ms/step - loss: 0.3656 - accuracy: 0.8670 - val_loss: 0.4221 - val_accuracy: 0.8591\n",
            "\n",
            "Epoch 00012: val_loss improved from 0.44242 to 0.42209, saving model to /content/drive/MyDrive/Machine learning/Projects/Intel_image_classification/check_points\n",
            "INFO:tensorflow:Assets written to: /content/drive/MyDrive/Machine learning/Projects/Intel_image_classification/check_points/assets\n",
            "Epoch 13/100\n",
            "351/351 [==============================] - 88s 251ms/step - loss: 0.3561 - accuracy: 0.8687 - val_loss: 0.4230 - val_accuracy: 0.8477\n",
            "\n",
            "Epoch 00013: val_loss did not improve from 0.42209\n",
            "Epoch 14/100\n",
            "351/351 [==============================] - 88s 251ms/step - loss: 0.3462 - accuracy: 0.8750 - val_loss: 0.4103 - val_accuracy: 0.8595\n",
            "\n",
            "Epoch 00014: val_loss improved from 0.42209 to 0.41027, saving model to /content/drive/MyDrive/Machine learning/Projects/Intel_image_classification/check_points\n",
            "INFO:tensorflow:Assets written to: /content/drive/MyDrive/Machine learning/Projects/Intel_image_classification/check_points/assets\n",
            "Epoch 15/100\n",
            "351/351 [==============================] - 87s 249ms/step - loss: 0.3299 - accuracy: 0.8823 - val_loss: 0.5019 - val_accuracy: 0.8374\n",
            "\n",
            "Epoch 00015: val_loss did not improve from 0.41027\n",
            "Epoch 16/100\n",
            "351/351 [==============================] - 87s 249ms/step - loss: 0.3028 - accuracy: 0.8950 - val_loss: 0.4359 - val_accuracy: 0.8527\n",
            "\n",
            "Epoch 00016: val_loss did not improve from 0.41027\n",
            "Epoch 17/100\n",
            "351/351 [==============================] - 88s 250ms/step - loss: 0.3123 - accuracy: 0.8858 - val_loss: 0.4333 - val_accuracy: 0.8623\n",
            "\n",
            "Epoch 00017: val_loss did not improve from 0.41027\n",
            "Epoch 00017: early stopping\n"
          ],
          "name": "stdout"
        }
      ]
    },
    {
      "cell_type": "code",
      "metadata": {
        "colab": {
          "base_uri": "https://localhost:8080/",
          "height": 35
        },
        "id": "VCmkZbZuaHiQ",
        "outputId": "893cda8c-7683-4b98-9be4-5fe144834781"
      },
      "source": [
        "train_set.dtype"
      ],
      "execution_count": 56,
      "outputs": [
        {
          "output_type": "execute_result",
          "data": {
            "application/vnd.google.colaboratory.intrinsic+json": {
              "type": "string"
            },
            "text/plain": [
              "'float32'"
            ]
          },
          "metadata": {
            "tags": []
          },
          "execution_count": 56
        }
      ]
    },
    {
      "cell_type": "markdown",
      "metadata": {
        "id": "IAoQJcK7cHik"
      },
      "source": [
        "## Model Evaluation"
      ]
    },
    {
      "cell_type": "code",
      "metadata": {
        "colab": {
          "base_uri": "https://localhost:8080/"
        },
        "id": "-IxHSYApnWx-",
        "outputId": "7fea4332-ad9f-43a1-b6d3-cb7e86f22854"
      },
      "source": [
        "model.evaluate(test_set, verbose=1)"
      ],
      "execution_count": 83,
      "outputs": [
        {
          "output_type": "stream",
          "text": [
            "94/94 [==============================] - 7s 71ms/step - loss: 0.4319 - accuracy: 0.8517\n"
          ],
          "name": "stdout"
        },
        {
          "output_type": "execute_result",
          "data": {
            "text/plain": [
              "[0.43186986446380615, 0.8516666889190674]"
            ]
          },
          "metadata": {
            "tags": []
          },
          "execution_count": 83
        }
      ]
    },
    {
      "cell_type": "markdown",
      "metadata": {
        "id": "SCUrZs1AnuxY"
      },
      "source": [
        "##  visualization of results.\r\n",
        " **Notte**-to access history of model.fit - history1.history"
      ]
    },
    {
      "cell_type": "code",
      "metadata": {
        "colab": {
          "base_uri": "https://localhost:8080/",
          "height": 268
        },
        "id": "328nRWv0oFlz",
        "outputId": "92ecdc0d-78ca-454a-92ac-4342fed1d386"
      },
      "source": [
        "\r\n",
        "plt.plot(history1.history[\"accuracy\"],label=\"accuracy\")\r\n",
        "plt.plot(history1.history[\"val_accuracy\"],label=\"val accuracy\")\r\n",
        "plt.xlabel='epochs'\r\n",
        "plt.ylabel(\"accuracy\")\r\n",
        "plt.legend()\r\n",
        "plt.show()"
      ],
      "execution_count": 104,
      "outputs": [
        {
          "output_type": "display_data",
          "data": {
            "image/png": "[encoded data removed]",
            "text/plain": [
              "<Figure size 432x288 with 1 Axes>"
            ]
          },
          "metadata": {
            "tags": [],
            "needs_background": "light"
          }
        }
      ]
    },
    {
      "cell_type": "code",
      "metadata": {
        "colab": {
          "base_uri": "https://localhost:8080/",
          "height": 638
        },
        "id": "0cE5yz9yozh6",
        "outputId": "efe925fe-3bd6-415a-b90a-41507ca0142f"
      },
      "source": [
        "fig,(ax1,ax2) = plt.subplots(nrows=2,ncols=1,figsize=(10,10),sharex=True)\r\n",
        "\r\n",
        "ax1.plot(history1.history[\"accuracy\"], label=\" accuracy\")  # beause of label we will be able to give legend to perticular curve\r\n",
        "ax1.plot(history1.history[\"val_accuracy\"],label=\"val accuracy\")\r\n",
        "ax1.set(title=\"Accuracy curve\", ylabel=\"Percentage of correct responses\")\r\n",
        "ax1.legend()\r\n",
        "\r\n",
        "ax2.plot(history1.history['loss'], label=\"Loss\") \r\n",
        "ax2.plot(history1.history['val_loss'], label=\"val loss\")      \r\n",
        "ax2.set(title=\"Loss curve\", xlabel=\"Epochs\",ylabel=\"Percentage of loss\")\r\n",
        "ax2.legend()\r\n"
      ],
      "execution_count": 106,
      "outputs": [
        {
          "output_type": "execute_result",
          "data": {
            "text/plain": [
              "<matplotlib.legend.Legend at 0x7fe4282c2c18>"
            ]
          },
          "metadata": {
            "tags": []
          },
          "execution_count": 106
        },
        {
          "output_type": "display_data",
          "data": {
            "image/png": "[encoded data removed]",
            "text/plain": [
              "<Figure size 720x720 with 2 Axes>"
            ]
          },
          "metadata": {
            "tags": [],
            "needs_background": "light"
          }
        }
      ]
    },
    {
      "cell_type": "markdown",
      "metadata": {
        "id": "022BJRMHzMB5"
      },
      "source": [
        "### Save model for reuse"
      ]
    },
    {
      "cell_type": "code",
      "metadata": {
        "colab": {
          "base_uri": "https://localhost:8080/"
        },
        "id": "VdXQRqw8qpW1",
        "outputId": "dd4e6db6-ee3b-49cb-fe72-3dbedb9d4a29"
      },
      "source": [
        "model.save(\"/content/drive/MyDrive/Machine learning/Projects/Intel_image_classification/Untitled Folder\")"
      ],
      "execution_count": 108,
      "outputs": [
        {
          "output_type": "stream",
          "text": [
            "INFO:tensorflow:Assets written to: /content/drive/MyDrive/Machine learning/Projects/Intel_image_classification/Untitled Folder/assets\n"
          ],
          "name": "stdout"
        }
      ]
    },
    {
      "cell_type": "code",
      "metadata": {
        "id": "Gn9BYNUDyXHU"
      },
      "source": [
        "new_model = tf.keras.models.load_model(\"/content/drive/MyDrive/Machine learning/Projects/Intel_image_classification/Untitled Folder\")"
      ],
      "execution_count": 109,
      "outputs": []
    },
    {
      "cell_type": "code",
      "metadata": {
        "colab": {
          "base_uri": "https://localhost:8080/"
        },
        "id": "hK_OLwG3zAye",
        "outputId": "ecc57a55-91f0-4e7f-85fc-6386293a17a0"
      },
      "source": [
        "new_model.summary()"
      ],
      "execution_count": 110,
      "outputs": [
        {
          "output_type": "stream",
          "text": [
            "Model: \"sequential_5\"\n",
            "_________________________________________________________________\n",
            "Layer (type)                 Output Shape              Param #   \n",
            "=================================================================\n",
            "conv2d_10 (Conv2D)           (None, 148, 148, 64)      1792      \n",
            "_________________________________________________________________\n",
            "max_pooling2d_10 (MaxPooling (None, 74, 74, 64)        0         \n",
            "_________________________________________________________________\n",
            "conv2d_11 (Conv2D)           (None, 72, 72, 128)       73856     \n",
            "_________________________________________________________________\n",
            "max_pooling2d_11 (MaxPooling (None, 36, 36, 128)       0         \n",
            "_________________________________________________________________\n",
            "conv2d_12 (Conv2D)           (None, 34, 34, 128)       147584    \n",
            "_________________________________________________________________\n",
            "max_pooling2d_12 (MaxPooling (None, 17, 17, 128)       0         \n",
            "_________________________________________________________________\n",
            "flatten_2 (Flatten)          (None, 36992)             0         \n",
            "_________________________________________________________________\n",
            "dense_6 (Dense)              (None, 128)               4735104   \n",
            "_________________________________________________________________\n",
            "dropout_2 (Dropout)          (None, 128)               0         \n",
            "_________________________________________________________________\n",
            "dense_7 (Dense)              (None, 64)                8256      \n",
            "_________________________________________________________________\n",
            "dense_8 (Dense)              (None, 6)                 390       \n",
            "=================================================================\n",
            "Total params: 4,966,982\n",
            "Trainable params: 4,966,982\n",
            "Non-trainable params: 0\n",
            "_________________________________________________________________\n"
          ],
          "name": "stdout"
        }
      ]
    },
    {
      "cell_type": "code",
      "metadata": {
        "id": "57mcYRuezEby"
      },
      "source": [
        ""
      ],
      "execution_count": null,
      "outputs": []
    }
  ]
}